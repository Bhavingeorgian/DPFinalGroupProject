{
 "cells": [
  {
   "cell_type": "markdown",
   "id": "8325dca4",
   "metadata": {},
   "source": [
    "### Import all the packages"
   ]
  },
  {
   "cell_type": "code",
   "execution_count": 1,
   "id": "b6d1dcb3",
   "metadata": {},
   "outputs": [],
   "source": [
    "import os\n",
    "import pandas as pd\n",
    "import schedule\n",
    "import time\n",
    "import pyodbc\n",
    "import socket\n",
    "import sqlalchemy as db\n",
    "from zipfile import ZipFile\n",
    "import shutil"
   ]
  },
  {
   "cell_type": "markdown",
   "id": "0bdae2b1",
   "metadata": {},
   "source": [
    "### Setting up Kaggle API to download dataset"
   ]
  },
  {
   "cell_type": "code",
   "execution_count": 2,
   "id": "b28675e5",
   "metadata": {},
   "outputs": [],
   "source": [
    "from kaggle.api.kaggle_api_extended import KaggleApi\n",
    "api = KaggleApi()\n",
    "api.authenticate()"
   ]
  },
  {
   "cell_type": "markdown",
   "id": "fb85dce0",
   "metadata": {},
   "source": [
    "### Connecting to SQL Server 2012 using sqlalchemy and pyodbc"
   ]
  },
  {
   "cell_type": "code",
   "execution_count": 3,
   "id": "6a985d6c",
   "metadata": {},
   "outputs": [],
   "source": [
    "engine = db.create_engine(f'mssql+pyodbc://{socket.gethostname()}/Bhavin?trusted_connection=yes&driver=ODBC Driver 17 for SQL Server')"
   ]
  },
  {
   "cell_type": "markdown",
   "id": "7b8c6cb0",
   "metadata": {},
   "source": [
    "### Build a function which perform bellow task: \n",
    "1. Delete mentioned directory\n",
    "2. Using \"!kaggle datasets download\" it download the data.\n",
    "3. Unzip the dataset\n",
    "4. Read dataset\n",
    "5. Bulk entry the dataset to the SQL server(SSMS)"
   ]
  },
  {
   "cell_type": "code",
   "execution_count": null,
   "id": "a2da2ae7",
   "metadata": {},
   "outputs": [],
   "source": [
    "def getdata():\n",
    "    if os.path.exists(\"C:/Users/bhavi/IBM\"):\n",
    "        shutil.rmtree(\"C:/Users/bhavi/IBM\")\n",
    "    !kaggle datasets download --force -d pavansubhasht/ibm-hr-analytics-attrition-dataset\n",
    "    with ZipFile(\"C:/Users/bhavi/ibm-hr-analytics-attrition-dataset.zip\", 'r') as zObject:\n",
    "          zObject.extractall(\n",
    "          path=\"C:/Users/bhavi/IBM\")\n",
    "    ibm = pd.read_csv('C:/Users/bhavi/IBM/WA_Fn-UseC_-HR-Employee-Attrition.csv')\n",
    "    ibm.to_sql(\"IBM\", con = engine, if_exists = \"replace\", index= False)\n",
    "    print(\"Data Acquire\")"
   ]
  },
  {
   "cell_type": "code",
   "execution_count": null,
   "id": "9485a2f6",
   "metadata": {},
   "outputs": [],
   "source": [
    "getdata()"
   ]
  },
  {
   "cell_type": "markdown",
   "id": "59a77b80",
   "metadata": {},
   "source": [
    "### Function is been schedule everday at 11 pm in the night"
   ]
  },
  {
   "cell_type": "code",
   "execution_count": null,
   "id": "96de9008",
   "metadata": {},
   "outputs": [],
   "source": [
    "schedule.every().day.at(\"23:00\").do(getdata)\n",
    "\n",
    "while 1:\n",
    "    schedule.run_pending()\n",
    "    time.sleep(1)"
   ]
  },
  {
   "cell_type": "code",
   "execution_count": null,
   "id": "74664235",
   "metadata": {},
   "outputs": [],
   "source": [
    "#schedule.every().day.at(\"20:40\").do(getdata)\n",
    "\n",
    "#while 1:\n",
    "    #schedule.run_pending()\n",
    "    #time.sleep(1)"
   ]
  },
  {
   "cell_type": "markdown",
   "id": "4b709b5b",
   "metadata": {},
   "source": [
    "Cancel job is used to cancel schedule of a specific job while clear is used to cancel all the jobs "
   ]
  },
  {
   "cell_type": "code",
   "execution_count": null,
   "id": "567885df",
   "metadata": {},
   "outputs": [],
   "source": [
    "#schedule.cancel_job(getdata)\n",
    "#schedule.clear()"
   ]
  }
 ],
 "metadata": {
  "kernelspec": {
   "display_name": "Python 3 (ipykernel)",
   "language": "python",
   "name": "python3"
  },
  "language_info": {
   "codemirror_mode": {
    "name": "ipython",
    "version": 3
   },
   "file_extension": ".py",
   "mimetype": "text/x-python",
   "name": "python",
   "nbconvert_exporter": "python",
   "pygments_lexer": "ipython3",
   "version": "3.9.12"
  }
 },
 "nbformat": 4,
 "nbformat_minor": 5
}
